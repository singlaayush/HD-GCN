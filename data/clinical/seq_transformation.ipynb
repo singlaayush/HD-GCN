{
 "cells": [
  {
   "cell_type": "code",
   "execution_count": 43,
   "metadata": {},
   "outputs": [],
   "source": [
    "import os\n",
    "import os.path as osp\n",
    "import numpy as np\n",
    "import pickle\n",
    "import logging\n",
    "import h5py\n",
    "from sklearn.model_selection import train_test_split\n",
    "import joblib\n",
    "from pathlib import Path\n",
    "import pandas as pd"
   ]
  },
  {
   "cell_type": "code",
   "execution_count": 44,
   "metadata": {},
   "outputs": [],
   "source": [
    "root_path = './'\n",
    "stat_path = osp.join(root_path, 'statistics')\n",
    "setup_file = osp.join(stat_path, 'setup.txt')\n",
    "camera_file = osp.join(stat_path, 'camera.txt')\n",
    "performer_file = osp.join(stat_path, 'performer.txt')\n",
    "replication_file = osp.join(stat_path, 'replication.txt')\n",
    "label_file = osp.join(stat_path, 'label.txt')\n",
    "skes_name_file = osp.join(stat_path, 'skes_available_name.txt')\n",
    "\n",
    "denoised_path = osp.join(root_path, 'denoised_data')\n",
    "raw_skes_joints_pkl = osp.join(denoised_path, 'raw_denoised_joints.pkl')\n",
    "frames_file = osp.join(denoised_path, 'frames_cnt.txt')\n",
    "\n",
    "save_path = './'\n",
    "if not osp.exists(save_path):\n",
    "    os.mkdir(save_path)"
   ]
  },
  {
   "cell_type": "code",
   "execution_count": 45,
   "metadata": {},
   "outputs": [],
   "source": [
    "def seq_translation(skes_joints):\n",
    "    \"\"\"\n",
    "        Arguments:\n",
    "            skes_joints: (num_skeletons, num_valid_frames for each skeleton, 75)\n",
    "                         from denoising: For joints, each frame contains 75 X-Y-Z coordinates (25 joints x 3 coordinates).\n",
    "        Returns:\n",
    "            skes_joints: (num_skeletons, num_real_frames for each skeleton, 75)\n",
    "                         - removes any frames in the front with only (0, 0, 0) X-Y-Z values for all 25 joints\n",
    "                         - sets joint-2 (middle of the spine/Spine1 in SMPL) as the new skeleton origin \n",
    "                                - how? by subtracting joint-2 (origin)'s X-Y-Z coordinates from the X-Y-Z coordinates of all 25 joints\n",
    "    \"\"\"\n",
    "    for idx, ske_joints in enumerate(skes_joints):\n",
    "        num_frames = ske_joints.shape[0]\n",
    "        num_bodies = 1  # always 1 for clinical (ske_joints.shape[1] == 75)\n",
    "        \n",
    "        # get the \"real\" first frame of actor1\n",
    "        #     - this skips past any frames with only (0, 0, 0) values for all 25 joints\n",
    "        i = 0\n",
    "        while i < num_frames:\n",
    "            if np.any(ske_joints[i, :75] != 0):\n",
    "                break\n",
    "            i += 1\n",
    "\n",
    "        # joint-2 (middle of the spine/Spine1 in SMPL) is to be set as the new skeleton origin\n",
    "        origin = np.copy(ske_joints[i, 3:6])  # new origin: joint-2\n",
    "\n",
    "        # how? by subtracting joint-2 (origin)'s X-Y-Z coordinates from the X-Y-Z coordinates of all 25 joints\n",
    "        for f in range(num_frames):\n",
    "            if num_bodies == 1:\n",
    "                ske_joints[f] -= np.tile(origin, 25)\n",
    "\n",
    "\n",
    "        skes_joints[idx] = ske_joints  # Update\n",
    "\n",
    "    return skes_joints"
   ]
  },
  {
   "cell_type": "code",
   "execution_count": 46,
   "metadata": {},
   "outputs": [],
   "source": [
    "def align_frames(skes_joints):\n",
    "    \"\"\"\n",
    "    Align all sequences with the same frame length.\n",
    "    \n",
    "   \n",
    "    Arguments:\n",
    "        skes_joints: (num_skeletons, num_valid_frames for each skeleton, 75)\n",
    "                     has been processed first by seq_transformation to set joint-2\n",
    "                     i.e. (middle of the spine/Spine1 in SMPL) as the new skeleton origin\n",
    "\n",
    "    Returns:\n",
    "        aligned_skes_joints: (num_skeletons, max_num_frames, 150)\n",
    "                     - all skeleton sequences aligned to max_num_frames from all of the sequences\n",
    "                     - padded to 75 joint X-Y-Z coordinates\n",
    "                            - each body has 75 joint coordinates (25 x 3)\n",
    "    \"\"\"\n",
    "    num_skes = len(skes_joints)\n",
    "    max_num_frames = np.max([x.shape[0] for x in skes_joints])  # 1148\n",
    "    aligned_skes_joints = np.zeros((num_skes, max_num_frames, 75), dtype=np.float32)\n",
    "\n",
    "    for idx, ske_joints in enumerate(skes_joints):\n",
    "        num_frames = ske_joints.shape[0]\n",
    "        aligned_skes_joints[idx, :num_frames] = ske_joints\n",
    "\n",
    "    return aligned_skes_joints"
   ]
  },
  {
   "cell_type": "code",
   "execution_count": 47,
   "metadata": {},
   "outputs": [],
   "source": [
    "def one_hot_vector(labels):\n",
    "    num_skes = len(labels)\n",
    "    labels_vector = np.zeros((num_skes, 2))  # binary classification\n",
    "    for idx, l in enumerate(labels):\n",
    "        labels_vector[idx, l] = 1\n",
    "\n",
    "    return labels_vector\n",
    "\n",
    "def split_dataset(skes_joints, label, data_indices):\n",
    "    train_idxs, test_idxs = train_test_split(list(range(skes_joints.shape[0])), test_size=0.15, stratify=label, random_state=3407)\n",
    "    train_labels = label[train_idxs]\n",
    "    test_labels = label[test_idxs]\n",
    "\n",
    "    train_x = skes_joints[train_idxs]\n",
    "    train_y = one_hot_vector(train_labels)\n",
    "    test_x = skes_joints[test_idxs]\n",
    "    test_y = one_hot_vector(test_labels)\n",
    "    \n",
    "    np.savetxt(\"train_indices.txt\", data_indices[train_idxs], fmt='%s')\n",
    "    joblib.dump(dict(zip(train_idxs, data_indices[train_idxs])), \"train_indices_dict.pkl\")\n",
    "    \n",
    "    np.savetxt(\"test_indices.txt\", data_indices[test_idxs], fmt='%s')\n",
    "    joblib.dump(dict(zip(test_idxs, data_indices[test_idxs])), \"test_indices_dict.pkl\")\n",
    "    \n",
    "    save_name = 'clinical.npz'\n",
    "    np.savez(save_name, x_train=train_x, y_train=train_y, x_test=test_x, y_test=test_y)\n",
    "    \n",
    "    unique, counts = np.unique(label[train_idxs], return_counts=True)\n",
    "    print(\"Train Frequency Counts:\\n\", np.asarray((unique, counts)).T)\n",
    "    \n",
    "    unique, counts = np.unique(label[test_idxs], return_counts=True)\n",
    "    print(\"Test Frequency Counts:\\n\", np.asarray((unique, counts)).T)"
   ]
  },
  {
   "cell_type": "code",
   "execution_count": 48,
   "metadata": {},
   "outputs": [],
   "source": [
    "data_indices = np.loadtxt(\"data_indices.txt\", dtype=str)"
   ]
  },
  {
   "cell_type": "code",
   "execution_count": 49,
   "metadata": {},
   "outputs": [],
   "source": [
    "raw_skes_joints, label = joblib.load(\"all_joints_ntu_w_lbl.pkl\")\n",
    "skes_joints = np.array([ske_joints.reshape(ske_joints.shape[0], -1) for ske_joints in raw_skes_joints], dtype=object)"
   ]
  },
  {
   "cell_type": "code",
   "execution_count": 50,
   "metadata": {},
   "outputs": [],
   "source": [
    "skes_joints = seq_translation(skes_joints)"
   ]
  },
  {
   "cell_type": "code",
   "execution_count": 51,
   "metadata": {},
   "outputs": [
    {
     "data": {
      "text/plain": [
       "(645, 75)"
      ]
     },
     "execution_count": 51,
     "metadata": {},
     "output_type": "execute_result"
    }
   ],
   "source": [
    "skes_joints[0].shape"
   ]
  },
  {
   "cell_type": "code",
   "execution_count": 52,
   "metadata": {},
   "outputs": [],
   "source": [
    "skes_joints = align_frames(skes_joints)  # aligned to the same frame length"
   ]
  },
  {
   "cell_type": "code",
   "execution_count": 53,
   "metadata": {},
   "outputs": [
    {
     "data": {
      "text/plain": [
       "(164, 1148, 75)"
      ]
     },
     "execution_count": 53,
     "metadata": {},
     "output_type": "execute_result"
    }
   ],
   "source": [
    "skes_joints.shape"
   ]
  },
  {
   "cell_type": "code",
   "execution_count": 54,
   "metadata": {},
   "outputs": [
    {
     "name": "stdout",
     "output_type": "stream",
     "text": [
      "Train Frequency Counts:\n",
      " [[  0 120]\n",
      " [  1  19]]\n",
      "Test Frequency Counts:\n",
      " [[ 0 21]\n",
      " [ 1  4]]\n"
     ]
    }
   ],
   "source": [
    "split_dataset(skes_joints, label, data_indices)"
   ]
  }
 ],
 "metadata": {
  "kernelspec": {
   "display_name": "hd-gcn",
   "language": "python",
   "name": "python3"
  },
  "language_info": {
   "codemirror_mode": {
    "name": "ipython",
    "version": 3
   },
   "file_extension": ".py",
   "mimetype": "text/x-python",
   "name": "python",
   "nbconvert_exporter": "python",
   "pygments_lexer": "ipython3",
   "version": "3.9.17"
  },
  "orig_nbformat": 4
 },
 "nbformat": 4,
 "nbformat_minor": 2
}
